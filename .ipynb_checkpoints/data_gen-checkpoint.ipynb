{
 "cells": [
  {
   "cell_type": "code",
   "execution_count": 2,
   "metadata": {
    "collapsed": true
   },
   "outputs": [],
   "source": [
    "import numpy as np\n",
    "import math\n",
    "import matplotlib.pyplot as plt\n",
    "from mpl_toolkits.mplot3d import Axes3D\n"
   ]
  },
  {
   "cell_type": "code",
   "execution_count": 3,
   "metadata": {
    "collapsed": true
   },
   "outputs": [],
   "source": [
    "# data generating script\n",
    "def place_cube(matrix, origin, r):\n",
    "    #dim = matrix.shape()\n",
    "    matrix[\n",
    "    origin[0]-r:origin[0]+r,\n",
    "    origin[1]-r:origin[1]+r,\n",
    "    origin[2]-r:origin[2]+r,\n",
    "    ] = 1\n",
    "    return matrix\n",
    "\n",
    "def dist3D(x, y):\n",
    "    return math.sqrt(\n",
    "        (x[0]-y[0])**2+\n",
    "        (x[1]-y[1])**2+\n",
    "        (x[2]-y[2])**2\n",
    "        )\n",
    "\n",
    "def place_sphere(matrix, origin, r):\n",
    "    for index, x in np.ndenumerate(matrix):\n",
    "        if dist3D(index, origin) <= r:\n",
    "            matrix[index] = 1\n",
    "    return matrix\n",
    "\n",
    "# data generating script\n",
    "def place_square(matrix, origin, r):\n",
    "    #dim = matrix.shape()\n",
    "    matrix[\n",
    "    origin[0]-r:origin[0]+r,\n",
    "    origin[1]-r:origin[1]+r,\n",
    "    ] = 1\n",
    "    return matrix\n",
    "\n",
    "def dist2D(x, y):\n",
    "    return math.sqrt(\n",
    "        (x[0]-y[0])**2+\n",
    "        (x[1]-y[1])**2\n",
    "        )\n",
    "\n",
    "def place_circle(matrix, origin, r):\n",
    "    for index, x in np.ndenumerate(matrix):\n",
    "        if dist2D(index, origin) <= r:\n",
    "            matrix[index] = 1\n",
    "    return matrix\n",
    "\n",
    "def random_3D_shapes(m_size,num):\n",
    "    shapes = np.zeros((m_size,m_size,m_size,num))\n",
    "    labels = np.zeros((2,num))\n",
    "    shape_types = np.random.randint(low = 0,high = 2,size= num)\n",
    "    \n",
    "    for i in range(num):\n",
    "        r = np.random.randint(low = 3,high = np.floor(m_size/2-1))\n",
    "        org = np.random.randint(low = r + 1,high = m_size - r - 1, size = 3)\n",
    "        if shape_types[i] == 0:\n",
    "            shapes[:,:,:,i] = place_cube(shapes[:,:,:,i],org,r)\n",
    "            labels[0,i] = 1\n",
    "        elif shape_types[i] == 1:\n",
    "            shapes[:,:,:,i] = place_sphere(shapes[:,:,:,i],org,r)\n",
    "            labels[1,i] = 1\n",
    "            \n",
    "    return shapes, labels\n",
    "\n",
    "def random_2D_shapes(m_size,num):\n",
    "    shapes = np.zeros((m_size,m_size,m_size,num))\n",
    "    shape_types = np.random.randint(low = 0,high = 2,size= num)\n",
    "    \n",
    "    for i in range(num):\n",
    "        r = np.random.randint(low = 3,high = np.floor(m_size/2-1))\n",
    "        org = np.random.randint(low = r + 1,high = m_size - r - 1, size = 3)\n",
    "        if shape_types[i] == 0:\n",
    "            shapes[:,:,:,i] = place_cube(shapes[:,:,:,i],org,r)\n",
    "        elif shape_types[i] == 1:\n",
    "            shapes[:,:,:,i] = place_sphere(shapes[:,:,:,i],org,r)\n",
    "            \n",
    "    return shapes, shape_types\n",
    "        \n",
    "\n",
    "def matching_3D_shapes(m_size, num):\n",
    "    cubes = np.zeros((m_size,m_size,m_size,num))\n",
    "    spheres = np.zeros((m_size,m_size,m_size,num))\n",
    "    for i in range(num):\n",
    "        r = np.random.randint(low = 3,high = np.floor(m_size/2-1))\n",
    "        org = np.random.randint(low = r + 1,high = m_size - r - 1, size = 3)\n",
    "        cubes[:,:,:,i] = place_cube(cubes[:,:,:,i],org,r)\n",
    "        spheres[:,:,:,i] = place_sphere(spheres[:,:,:,i],org,r)\n",
    "    return cubes, spheres\n"
   ]
  },
  {
   "cell_type": "code",
   "execution_count": null,
   "metadata": {},
   "outputs": [],
   "source": [
    "data, labels = random_3D_shapes(32,2000)\n",
    "#Binary data\n",
    "np.save('data/rand_shapes_data_small.npy', data.astype(np.float32))\n",
    "np.save('data/rand_shapes_labels_small.npy', labels.astype(np.int32))"
   ]
  },
  {
   "cell_type": "code",
   "execution_count": null,
   "metadata": {},
   "outputs": [],
   "source": [
    "data = np.load('data/rand_shapes_data_small.npy')\n",
    "print(data.shape)\n",
    "labels = np.load('data/rand_shapes_labels_small.npy')\n",
    "print(labels.shape)"
   ]
  },
  {
   "cell_type": "code",
   "execution_count": null,
   "metadata": {
    "collapsed": true
   },
   "outputs": [],
   "source": []
  }
 ],
 "metadata": {
  "kernelspec": {
   "display_name": "Python [conda env:ceNeuron]",
   "language": "python",
   "name": "conda-env-ceNeuron-py"
  },
  "language_info": {
   "codemirror_mode": {
    "name": "ipython",
    "version": 2
   },
   "file_extension": ".py",
   "mimetype": "text/x-python",
   "name": "python",
   "nbconvert_exporter": "python",
   "pygments_lexer": "ipython2",
   "version": "2.7.13"
  }
 },
 "nbformat": 4,
 "nbformat_minor": 2
}
