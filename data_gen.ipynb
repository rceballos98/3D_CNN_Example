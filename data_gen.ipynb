{
 "cells": [
  {
   "cell_type": "code",
   "execution_count": 2,
   "metadata": {
    "collapsed": true
   },
   "outputs": [],
   "source": [
    "import numpy as np\n",
    "import tensorflow as tf\n",
    "import math\n",
    "import matplotlib.pyplot as plt\n",
    "import pickle\n",
    "from dataset_def import Dataset\n",
    "from mpl_toolkits.mplot3d import Axes3D\n"
   ]
  },
  {
   "cell_type": "code",
   "execution_count": 3,
   "metadata": {
    "collapsed": true
   },
   "outputs": [],
   "source": [
    "# data generating script\n",
    "def place_cube(matrix, origin, r):\n",
    "    #dim = matrix.shape()\n",
    "    matrix[\n",
    "    origin[0]-r:origin[0]+r,\n",
    "    origin[1]-r:origin[1]+r,\n",
    "    origin[2]-r:origin[2]+r,\n",
    "    ] = 1\n",
    "    return matrix\n",
    "\n",
    "def dist3D(x, y):\n",
    "    return math.sqrt(\n",
    "        (x[0]-y[0])**2+\n",
    "        (x[1]-y[1])**2+\n",
    "        (x[2]-y[2])**2\n",
    "        )\n",
    "\n",
    "def place_sphere(matrix, origin, r):\n",
    "    for index, x in np.ndenumerate(matrix):\n",
    "        if dist3D(index, origin) <= r:\n",
    "            matrix[index] = 1\n",
    "    return matrix\n",
    "\n",
    "# data generating script\n",
    "def place_square(matrix, origin, r):\n",
    "    #dim = matrix.shape()\n",
    "    matrix[\n",
    "    origin[0]-r:origin[0]+r,\n",
    "    origin[1]-r:origin[1]+r,\n",
    "    ] = 1\n",
    "    return matrix\n",
    "\n",
    "def dist2D(x, y):\n",
    "    return math.sqrt(\n",
    "        (x[0]-y[0])**2+\n",
    "        (x[1]-y[1])**2\n",
    "        )\n",
    "\n",
    "def place_circle(matrix, origin, r):\n",
    "    for index, x in np.ndenumerate(matrix):\n",
    "        if dist2D(index, origin) <= r:\n",
    "            matrix[index] = 1\n",
    "    return matrix\n",
    "\n",
    "def random_3D_shapes(m_size,num):\n",
    "    shapes = np.zeros((num,m_size,m_size,m_size))\n",
    "    labels = np.zeros((num,2))\n",
    "    shape_types = np.random.randint(low = 0,high = 2,size= num)\n",
    "    \n",
    "    for i in range(num):\n",
    "        r = np.random.randint(low = 3,high = np.floor(m_size/2-1))\n",
    "        org = np.random.randint(low = r + 1,high = m_size - r - 1, size = 3)\n",
    "        if shape_types[i] == 0:\n",
    "            shapes[i,:,:,:] = place_cube(shapes[i,:,:,:],org,r)\n",
    "            labels[i,0] = 1\n",
    "        elif shape_types[i] == 1:\n",
    "            shapes[i,:,:,:] = place_sphere(shapes[i,:,:,:],org,r)\n",
    "            labels[i,1] = 1\n",
    "            \n",
    "    return shapes, labels\n",
    "\n",
    "def random_2D_shapes(m_size,num):\n",
    "    shapes = np.zeros((num,m_size,m_size))\n",
    "    labels = np.zeros((num,2))\n",
    "    shape_types = np.random.randint(low = 0,high = 2,size= num)\n",
    "    \n",
    "    for i in range(num):\n",
    "        r = np.random.randint(low = 3,high = np.floor(m_size/2-1))\n",
    "        org = np.random.randint(low = r + 1,high = m_size - r - 1, size = 2)\n",
    "        if shape_types[i] == 0:\n",
    "            shapes[i,:,:] = place_square(shapes[i,:,:],org,r)\n",
    "            labels[i,0] = 1\n",
    "        elif shape_types[i] == 1:\n",
    "            shapes[i,:,:] = place_circle(shapes[i,:,:],org,r)\n",
    "            labels[i,1] = 1\n",
    "            \n",
    "    return shapes, labels\n",
    "        \n",
    "# def random_2D_shapes_wn(m_size,num, sigma = 0):\n",
    "#     shapes = np.zeros((num,m_size,m_size))\n",
    "#     labels = np.zeros((num,2))\n",
    "#     shape_types = np.random.randint(low = 0,high = 2,size= num)\n",
    "    \n",
    "#     for i in range(num):\n",
    "#         r = np.random.randint(low = 3,high = np.floor(m_size/2-1))\n",
    "#         org = np.random.randint(low = r + 1,high = m_size - r - 1, size = 2)\n",
    "#         if shape_types[i] == 0:\n",
    "#             shapes[i,:,:] = add_noise(place_square(shapes[i,:,:],org,r),sigma = sigma)\n",
    "#             labels[i,0] = 1\n",
    "#         elif shape_types[i] == 1:\n",
    "#             shapes[i,:,:] = add_noise(place_circle(shapes[i,:,:],org,r),sigma = sigma)\n",
    "#             labels[i,1] = 1\n",
    "            \n",
    "#     return shapes, labels\n",
    "        \n",
    "\n",
    "def matching_3D_shapes(m_size, num):\n",
    "    cubes = np.zeros((m_size,m_size,m_size,num))\n",
    "    spheres = np.zeros((m_size,m_size,m_size,num))\n",
    "    for i in range(num):\n",
    "        r = np.random.randint(low = 3,high = np.floor(m_size/2-1))\n",
    "        org = np.random.randint(low = r + 1,high = m_size - r - 1, size = 3)\n",
    "        cubes[:,:,:,i] = place_cube(cubes[:,:,:,i],org,r)\n",
    "        spheres[:,:,:,i] = place_sphere(spheres[:,:,:,i],org,r)\n",
    "    return cubes, spheres\n",
    "\n",
    "def add_noise(matrix, mu = 0, sigma = 0):\n",
    "    s = matrix + np.random.normal(mu, sigma, matrix.shape)"
   ]
  },
  {
   "cell_type": "code",
   "execution_count": 4,
   "metadata": {},
   "outputs": [
    {
     "name": "stdout",
     "output_type": "stream",
     "text": [
      "(100, 28, 28, 28)\n",
      "(100, 21952)\n",
      "2195200\n"
     ]
    },
    {
     "data": {
      "text/plain": [
       "TensorShape([Dimension(100), Dimension(28), Dimension(28), Dimension(28), Dimension(1)])"
      ]
     },
     "execution_count": 4,
     "metadata": {},
     "output_type": "execute_result"
    }
   ],
   "source": [
    "data, labels = random_3D_shapes(28,100)\n",
    "print(data.shape)\n",
    "data_r = data.reshape((100,28**3))\n",
    "print(data_r.shape)\n",
    "data_r2 = data.reshape(100,28,28,28)\n",
    "print(np.sum(np.sum(data == data_r2)))\n",
    "x = tf.reshape(data_r, shape=[-1, 28, 28, 28, 1])\n",
    "x.shape"
   ]
  },
  {
   "cell_type": "code",
   "execution_count": 320,
   "metadata": {
    "collapsed": true
   },
   "outputs": [],
   "source": [
    "# Save 2D shape datasets\n",
    "m_size = 28\n",
    "\n",
    "# Train\n",
    "num = 1000\n",
    "\n",
    "data, labels = random_2D_shapes(m_size,num)\n",
    "data = data.reshape((num,m_size*m_size))\n",
    "train_dataset = Dataset(data.astype(np.float32),labels.astype(np.int8))\n",
    "\n",
    "# Test\n",
    "num = 100\n",
    "\n",
    "data, labels = random_2D_shapes(m_size,num)\n",
    "data = data.reshape((num,m_size*m_size))\n",
    "test_dataset = Dataset(data.astype(np.float32),labels.astype(np.int8))\n",
    "\n",
    "#Binary data\n",
    "\n",
    "\n",
    "with open('data/shapes/2D_train_dataset.pickle', 'wb') as output:\n",
    "    pickle.dump(train_dataset, output)\n",
    "with open('data/shapes/2D_test_dataset.pickle', 'wb') as output:\n",
    "    pickle.dump(test_dataset, output)\n",
    "    \n",
    "#np.save('data/shapes/2D_small_dataset.npy', data.astype(np.float32))\n",
    "#np.save('data/shapes/2D_small_labels.npy', labels.astype(np.int32))"
   ]
  },
  {
   "cell_type": "code",
   "execution_count": 328,
   "metadata": {},
   "outputs": [
    {
     "name": "stdout",
     "output_type": "stream",
     "text": [
      "27\n",
      "[0 1]\n"
     ]
    },
    {
     "data": {
      "image/png": "[encoded data removed]",
      "text/plain": [
       "<matplotlib.figure.Figure at 0x117edfe10>"
      ]
     },
     "metadata": {},
     "output_type": "display_data"
    }
   ],
   "source": [
    "# View resulting shapes\n",
    "i = i + 1\n",
    "print(i)\n",
    "shapes = test_dataset.data\n",
    "labels = test_dataset.labels\n",
    "shapes = shapes.reshape((num,m_size,m_size))\n",
    "matrix = shapes[i,:,:]\n",
    "print(labels[i])\n",
    "fig = plt.figure()\n",
    "ax = fig.add_subplot(111)\n",
    "x,y = np.where(matrix == 0)\n",
    "ax.scatter(x, y, c= 'black', s = 0.1)\n",
    "x,y = np.where(matrix == 1)\n",
    "ax.scatter(x, y, c= 'red', s = 3)\n",
    "\n",
    "plt.show()"
   ]
  },
  {
   "cell_type": "code",
   "execution_count": 160,
   "metadata": {},
   "outputs": [
    {
     "name": "stdout",
     "output_type": "stream",
     "text": [
      "(100, 784)\n",
      "(100, 784)\n",
      "(100, 2)\n"
     ]
    }
   ],
   "source": [
    "data = np.load('data/2D_small_data.npy')\n",
    "print(data.shape)\n",
    "print(data.shape)\n",
    "labels = np.load('data/2D_small_labels.npy')\n",
    "print(labels.shape)"
   ]
  },
  {
   "cell_type": "code",
   "execution_count": 201,
   "metadata": {
    "collapsed": true
   },
   "outputs": [],
   "source": [
    "i = 0\n",
    "num = 1000\n",
    "m_size = 28"
   ]
  },
  {
   "cell_type": "code",
   "execution_count": 210,
   "metadata": {},
   "outputs": [
    {
     "name": "stdout",
     "output_type": "stream",
     "text": [
      "9\n",
      "[1 0]\n"
     ]
    },
    {
     "data": {
      "image/png": "[encoded data removed]",
      "text/plain": [
       "<matplotlib.figure.Figure at 0x1176f0690>"
      ]
     },
     "metadata": {},
     "output_type": "display_data"
    }
   ],
   "source": [
    "# Plot 2D rand shapes\n",
    "i = i + 1\n",
    "print(i)\n",
    "shapes = train_dataset.data\n",
    "labels = train_dataset.labels\n",
    "shapes = shapes.reshape((num,m_size,m_size))\n",
    "matrix = shapes[i,:,:]\n",
    "print(labels[i])\n",
    "fig = plt.figure()\n",
    "ax = fig.add_subplot(111)\n",
    "x,y = np.where(matrix == 0)\n",
    "ax.scatter(x, y, c= 'black', s = 0.1)\n",
    "x,y = np.where(matrix == 1)\n",
    "ax.scatter(x, y, c= 'red', s = 3)\n",
    "\n",
    "plt.show()"
   ]
  },
  {
   "cell_type": "code",
   "execution_count": 163,
   "metadata": {},
   "outputs": [
    {
     "ename": "ValueError",
     "evalue": "cannot reshape array of size 78400 into shape (1000,28,28,28)",
     "output_type": "error",
     "traceback": [
      "\u001b[0;31m---------------------------------------------------------------------------\u001b[0m",
      "\u001b[0;31mValueError\u001b[0m                                Traceback (most recent call last)",
      "\u001b[0;32m<ipython-input-163-49f6d8da73cd>\u001b[0m in \u001b[0;36m<module>\u001b[0;34m()\u001b[0m\n\u001b[1;32m      2\u001b[0m \u001b[0mi\u001b[0m \u001b[0;34m=\u001b[0m \u001b[0mi\u001b[0m \u001b[0;34m+\u001b[0m \u001b[0;36m1\u001b[0m\u001b[0;34m\u001b[0m\u001b[0m\n\u001b[1;32m      3\u001b[0m \u001b[0mshapes\u001b[0m \u001b[0;34m=\u001b[0m \u001b[0mtrain_dataset\u001b[0m\u001b[0;34m.\u001b[0m\u001b[0mdata\u001b[0m\u001b[0;34m\u001b[0m\u001b[0m\n\u001b[0;32m----> 4\u001b[0;31m \u001b[0mshapes\u001b[0m \u001b[0;34m=\u001b[0m \u001b[0mdata\u001b[0m\u001b[0;34m.\u001b[0m\u001b[0mreshape\u001b[0m\u001b[0;34m(\u001b[0m\u001b[0;34m(\u001b[0m\u001b[0mnum\u001b[0m\u001b[0;34m,\u001b[0m\u001b[0mm_size\u001b[0m\u001b[0;34m,\u001b[0m\u001b[0mm_size\u001b[0m\u001b[0;34m,\u001b[0m\u001b[0mm_size\u001b[0m\u001b[0;34m)\u001b[0m\u001b[0;34m)\u001b[0m\u001b[0;34m\u001b[0m\u001b[0m\n\u001b[0m\u001b[1;32m      5\u001b[0m \u001b[0mmatrix\u001b[0m \u001b[0;34m=\u001b[0m \u001b[0mshapes\u001b[0m\u001b[0;34m[\u001b[0m\u001b[0;34m:\u001b[0m\u001b[0;34m,\u001b[0m\u001b[0;34m:\u001b[0m\u001b[0;34m,\u001b[0m\u001b[0mi\u001b[0m\u001b[0;34m]\u001b[0m\u001b[0;34m\u001b[0m\u001b[0m\n\u001b[1;32m      6\u001b[0m \u001b[0;32mprint\u001b[0m\u001b[0;34m(\u001b[0m\u001b[0mlabels\u001b[0m\u001b[0;34m[\u001b[0m\u001b[0mi\u001b[0m\u001b[0;34m]\u001b[0m\u001b[0;34m)\u001b[0m\u001b[0;34m\u001b[0m\u001b[0m\n",
      "\u001b[0;31mValueError\u001b[0m: cannot reshape array of size 78400 into shape (1000,28,28,28)"
     ]
    }
   ],
   "source": [
    "# Plot 3D rand shapes\n",
    "i = i + 1\n",
    "shapes = train_dataset.data\n",
    "shapes = data.reshape((num,m_size,m_size,m_size))\n",
    "matrix = shapes[:,:,i]\n",
    "print(labels[i])\n",
    "fig = plt.figure()\n",
    "ax = fig.add_subplot(111, projection='3d')\n",
    "z,x,y = np.where(matrix == 0)\n",
    "ax.scatter(x, y, -z, zdir='z', c= 'black', s = 0.1)\n",
    "z,x,y = np.where(matrix == 1)\n",
    "ax.scatter(x, y, -z, zdir='z', c= 'red', s = 3)\n",
    "\n",
    "plt.show()"
   ]
  },
  {
   "cell_type": "code",
   "execution_count": 62,
   "metadata": {},
   "outputs": [
    {
     "data": {
      "text/plain": [
       "<closed file 'data/shapes/2D_test_dataset.pickle', mode 'rb' at 0x115457a50>"
      ]
     },
     "execution_count": 62,
     "metadata": {},
     "output_type": "execute_result"
    }
   ],
   "source": [
    "data"
   ]
  },
  {
   "cell_type": "code",
   "execution_count": 66,
   "metadata": {},
   "outputs": [
    {
     "data": {
      "text/plain": [
       "(1000, 784)"
      ]
     },
     "execution_count": 66,
     "metadata": {},
     "output_type": "execute_result"
    }
   ],
   "source": [
    "train_dataset.data.shape"
   ]
  },
  {
   "cell_type": "code",
   "execution_count": 6,
   "metadata": {},
   "outputs": [
    {
     "name": "stdout",
     "output_type": "stream",
     "text": [
      "(10000, 21952)\n"
     ]
    }
   ],
   "source": [
    "# Save 3D shape datasets\n",
    "m_size = 28\n",
    "\n",
    "# Train\n",
    "num = 10000\n",
    "\n",
    "data, labels = random_3D_shapes(m_size,num)\n",
    "data = data.reshape((num,m_size**3))\n",
    "print(data.shape)\n",
    "train_dataset = Dataset(data.astype(np.float32),labels.astype(np.int8))\n",
    "\n",
    "# Test\n",
    "num = 1000\n",
    "\n",
    "data, labels = random_3D_shapes(m_size,num)\n",
    "data = data.reshape((num,m_size**3))\n",
    "test_dataset = Dataset(data.astype(np.float32),labels.astype(np.int8))\n",
    "\n",
    "#Binary data\n",
    "\n",
    "\n",
    "with open('data/shapes/3D_train_dataset.pickle', 'wb') as output:\n",
    "    pickle.dump(train_dataset, output)\n",
    "with open('data/shapes/3D_test_dataset.pickle', 'wb') as output:\n",
    "    pickle.dump(test_dataset, output)"
   ]
  },
  {
   "cell_type": "code",
   "execution_count": null,
   "metadata": {
    "collapsed": true
   },
   "outputs": [],
   "source": []
  }
 ],
 "metadata": {
  "kernelspec": {
   "display_name": "Python [conda env:ceNeuron]",
   "language": "python",
   "name": "conda-env-ceNeuron-py"
  },
  "language_info": {
   "codemirror_mode": {
    "name": "ipython",
    "version": 2
   },
   "file_extension": ".py",
   "mimetype": "text/x-python",
   "name": "python",
   "nbconvert_exporter": "python",
   "pygments_lexer": "ipython2",
   "version": "2.7.13"
  }
 },
 "nbformat": 4,
 "nbformat_minor": 2
}
